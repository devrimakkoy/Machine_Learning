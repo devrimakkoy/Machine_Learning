{
 "cells": [
  {
   "cell_type": "code",
   "execution_count": 1,
   "metadata": {},
   "outputs": [],
   "source": [
    "#Importing the Libraries\n",
    "import numpy as np\n",
    "import pandas as pd\n",
    "import tensorflow as tf"
   ]
  },
  {
   "cell_type": "markdown",
   "metadata": {},
   "source": [
    "### Data Preprocessing"
   ]
  },
  {
   "cell_type": "code",
   "execution_count": 6,
   "metadata": {},
   "outputs": [],
   "source": [
    "#Importing the dataset\n",
    "dataset = pd.read_excel('Folds5x2_pp.xlsx')\n",
    "X = dataset.iloc[:, :-1].values\n",
    "y = dataset.iloc[:, -1].values"
   ]
  },
  {
   "cell_type": "code",
   "execution_count": 7,
   "metadata": {},
   "outputs": [],
   "source": [
    "#Splitting the dataset into the Training set and Test set\n",
    "from sklearn.model_selection import train_test_split\n",
    "X_train, X_test, y_train, y_test = train_test_split(X, y, test_size = 0.2, random_state = 0)"
   ]
  },
  {
   "cell_type": "markdown",
   "metadata": {},
   "source": [
    "### Building The ANN"
   ]
  },
  {
   "cell_type": "code",
   "execution_count": 8,
   "metadata": {},
   "outputs": [],
   "source": [
    "#Initializing the ANN\n",
    "ann = tf.keras.models.Sequential()"
   ]
  },
  {
   "cell_type": "code",
   "execution_count": 9,
   "metadata": {},
   "outputs": [],
   "source": [
    "#Adding the input layer and the first hidden layer\n",
    "ann.add(tf.keras.layers.Dense(units=6, activation='relu'))"
   ]
  },
  {
   "cell_type": "code",
   "execution_count": 10,
   "metadata": {},
   "outputs": [],
   "source": [
    "#Adding the second hidden layer\n",
    "ann.add(tf.keras.layers.Dense(units=6, activation='relu'))"
   ]
  },
  {
   "cell_type": "code",
   "execution_count": 11,
   "metadata": {},
   "outputs": [],
   "source": [
    "#Adding the output layer\n",
    "ann.add(tf.keras.layers.Dense(units=1))"
   ]
  },
  {
   "cell_type": "markdown",
   "metadata": {},
   "source": [
    "### Training The ANN"
   ]
  },
  {
   "cell_type": "code",
   "execution_count": 12,
   "metadata": {},
   "outputs": [],
   "source": [
    "#Compiling the ANN\n",
    "ann.compile(optimizer = 'adam', loss = 'mean_squared_error')"
   ]
  },
  {
   "cell_type": "code",
   "execution_count": 13,
   "metadata": {},
   "outputs": [
    {
     "name": "stdout",
     "output_type": "stream",
     "text": [
      "Epoch 1/100\n",
      "240/240 [==============================] - 1s 3ms/step - loss: 1684.8558\n",
      "Epoch 2/100\n",
      "240/240 [==============================] - 1s 2ms/step - loss: 177.3342\n",
      "Epoch 3/100\n",
      "240/240 [==============================] - 1s 2ms/step - loss: 155.9757\n",
      "Epoch 4/100\n",
      "240/240 [==============================] - 1s 2ms/step - loss: 131.6104\n",
      "Epoch 5/100\n",
      "240/240 [==============================] - 1s 3ms/step - loss: 108.7419\n",
      "Epoch 6/100\n",
      "240/240 [==============================] - 1s 3ms/step - loss: 87.9296\n",
      "Epoch 7/100\n",
      "240/240 [==============================] - 1s 2ms/step - loss: 70.6171\n",
      "Epoch 8/100\n",
      "240/240 [==============================] - 1s 2ms/step - loss: 57.3864\n",
      "Epoch 9/100\n",
      "240/240 [==============================] - 1s 2ms/step - loss: 47.7651\n",
      "Epoch 10/100\n",
      "240/240 [==============================] - 1s 3ms/step - loss: 41.3075\n",
      "Epoch 11/100\n",
      "240/240 [==============================] - 1s 2ms/step - loss: 37.5975\n",
      "Epoch 12/100\n",
      "240/240 [==============================] - 1s 2ms/step - loss: 35.0552\n",
      "Epoch 13/100\n",
      "240/240 [==============================] - 1s 2ms/step - loss: 34.2763\n",
      "Epoch 14/100\n",
      "240/240 [==============================] - 1s 2ms/step - loss: 33.1879\n",
      "Epoch 15/100\n",
      "240/240 [==============================] - 1s 2ms/step - loss: 32.2417\n",
      "Epoch 16/100\n",
      "240/240 [==============================] - 1s 2ms/step - loss: 32.0859\n",
      "Epoch 17/100\n",
      "240/240 [==============================] - 1s 3ms/step - loss: 31.5776\n",
      "Epoch 18/100\n",
      "240/240 [==============================] - 1s 2ms/step - loss: 31.5416\n",
      "Epoch 19/100\n",
      "240/240 [==============================] - 1s 2ms/step - loss: 30.7190\n",
      "Epoch 20/100\n",
      "240/240 [==============================] - 1s 2ms/step - loss: 30.4452\n",
      "Epoch 21/100\n",
      "240/240 [==============================] - 1s 2ms/step - loss: 30.4819\n",
      "Epoch 22/100\n",
      "240/240 [==============================] - 1s 2ms/step - loss: 29.6374\n",
      "Epoch 23/100\n",
      "240/240 [==============================] - 1s 2ms/step - loss: 29.2750\n",
      "Epoch 24/100\n",
      "240/240 [==============================] - 1s 3ms/step - loss: 29.1645\n",
      "Epoch 25/100\n",
      "240/240 [==============================] - 1s 2ms/step - loss: 29.7085\n",
      "Epoch 26/100\n",
      "240/240 [==============================] - 1s 2ms/step - loss: 29.2945\n",
      "Epoch 27/100\n",
      "240/240 [==============================] - 1s 2ms/step - loss: 28.1484\n",
      "Epoch 28/100\n",
      "240/240 [==============================] - 1s 2ms/step - loss: 28.0179\n",
      "Epoch 29/100\n",
      "240/240 [==============================] - 1s 2ms/step - loss: 28.5053\n",
      "Epoch 30/100\n",
      "240/240 [==============================] - 1s 2ms/step - loss: 28.3287\n",
      "Epoch 31/100\n",
      "240/240 [==============================] - 1s 2ms/step - loss: 27.6210\n",
      "Epoch 32/100\n",
      "240/240 [==============================] - 1s 2ms/step - loss: 27.4548\n",
      "Epoch 33/100\n",
      "240/240 [==============================] - 1s 2ms/step - loss: 27.9490\n",
      "Epoch 34/100\n",
      "240/240 [==============================] - 1s 2ms/step - loss: 27.0320\n",
      "Epoch 35/100\n",
      "240/240 [==============================] - 1s 2ms/step - loss: 27.5264\n",
      "Epoch 36/100\n",
      "240/240 [==============================] - 1s 2ms/step - loss: 27.2203\n",
      "Epoch 37/100\n",
      "240/240 [==============================] - 1s 2ms/step - loss: 27.2070\n",
      "Epoch 38/100\n",
      "240/240 [==============================] - 1s 2ms/step - loss: 27.6173\n",
      "Epoch 39/100\n",
      "240/240 [==============================] - 1s 2ms/step - loss: 26.7701\n",
      "Epoch 40/100\n",
      "240/240 [==============================] - 1s 2ms/step - loss: 27.4082\n",
      "Epoch 41/100\n",
      "240/240 [==============================] - 1s 2ms/step - loss: 26.9667\n",
      "Epoch 42/100\n",
      "240/240 [==============================] - 1s 2ms/step - loss: 26.7498\n",
      "Epoch 43/100\n",
      "240/240 [==============================] - 1s 2ms/step - loss: 27.1527\n",
      "Epoch 44/100\n",
      "240/240 [==============================] - 1s 2ms/step - loss: 26.9628\n",
      "Epoch 45/100\n",
      "240/240 [==============================] - 1s 2ms/step - loss: 27.8490\n",
      "Epoch 46/100\n",
      "240/240 [==============================] - 1s 2ms/step - loss: 26.6270\n",
      "Epoch 47/100\n",
      "240/240 [==============================] - 1s 2ms/step - loss: 27.3049\n",
      "Epoch 48/100\n",
      "240/240 [==============================] - 1s 2ms/step - loss: 26.8982\n",
      "Epoch 49/100\n",
      "240/240 [==============================] - 1s 2ms/step - loss: 27.6543\n",
      "Epoch 50/100\n",
      "240/240 [==============================] - 1s 2ms/step - loss: 26.7066\n",
      "Epoch 51/100\n",
      "240/240 [==============================] - 1s 2ms/step - loss: 27.3416\n",
      "Epoch 52/100\n",
      "240/240 [==============================] - 1s 3ms/step - loss: 27.6385\n",
      "Epoch 53/100\n",
      "240/240 [==============================] - 1s 3ms/step - loss: 27.0130\n",
      "Epoch 54/100\n",
      "240/240 [==============================] - 1s 3ms/step - loss: 27.1572\n",
      "Epoch 55/100\n",
      "240/240 [==============================] - 1s 3ms/step - loss: 27.1756\n",
      "Epoch 56/100\n",
      "240/240 [==============================] - 1s 3ms/step - loss: 26.8355\n",
      "Epoch 57/100\n",
      "240/240 [==============================] - 1s 3ms/step - loss: 26.5371\n",
      "Epoch 58/100\n",
      "240/240 [==============================] - 1s 3ms/step - loss: 26.6295\n",
      "Epoch 59/100\n",
      "240/240 [==============================] - 1s 3ms/step - loss: 27.5212\n",
      "Epoch 60/100\n",
      "240/240 [==============================] - 1s 3ms/step - loss: 26.9717\n",
      "Epoch 61/100\n",
      "240/240 [==============================] - 1s 3ms/step - loss: 27.7040\n",
      "Epoch 62/100\n",
      "240/240 [==============================] - 1s 3ms/step - loss: 26.8823\n",
      "Epoch 63/100\n",
      "240/240 [==============================] - 1s 3ms/step - loss: 26.6311\n",
      "Epoch 64/100\n",
      "240/240 [==============================] - 1s 2ms/step - loss: 26.9942\n",
      "Epoch 65/100\n",
      "240/240 [==============================] - 1s 2ms/step - loss: 26.6220\n",
      "Epoch 66/100\n",
      "240/240 [==============================] - 1s 2ms/step - loss: 26.6668\n",
      "Epoch 67/100\n",
      "240/240 [==============================] - 1s 2ms/step - loss: 26.8342\n",
      "Epoch 68/100\n",
      "240/240 [==============================] - 1s 2ms/step - loss: 26.4294\n",
      "Epoch 69/100\n",
      "240/240 [==============================] - 1s 2ms/step - loss: 26.9676\n",
      "Epoch 70/100\n",
      "240/240 [==============================] - 1s 2ms/step - loss: 27.3225\n",
      "Epoch 71/100\n",
      "240/240 [==============================] - 1s 2ms/step - loss: 27.3920\n",
      "Epoch 72/100\n",
      "240/240 [==============================] - 1s 2ms/step - loss: 26.6343\n",
      "Epoch 73/100\n",
      "240/240 [==============================] - 1s 2ms/step - loss: 26.3975\n",
      "Epoch 74/100\n",
      "240/240 [==============================] - 1s 3ms/step - loss: 26.9145\n",
      "Epoch 75/100\n",
      "240/240 [==============================] - 1s 2ms/step - loss: 26.5900\n",
      "Epoch 76/100\n",
      "240/240 [==============================] - 1s 2ms/step - loss: 27.3547\n",
      "Epoch 77/100\n",
      "240/240 [==============================] - 1s 2ms/step - loss: 27.0917\n",
      "Epoch 78/100\n",
      "240/240 [==============================] - 1s 2ms/step - loss: 26.8365\n",
      "Epoch 79/100\n",
      "240/240 [==============================] - 1s 2ms/step - loss: 26.7876\n",
      "Epoch 80/100\n",
      "240/240 [==============================] - 1s 2ms/step - loss: 27.3773\n",
      "Epoch 81/100\n",
      "240/240 [==============================] - 1s 2ms/step - loss: 27.3068\n",
      "Epoch 82/100\n",
      "240/240 [==============================] - 1s 2ms/step - loss: 26.5085\n",
      "Epoch 83/100\n",
      "240/240 [==============================] - 1s 3ms/step - loss: 26.6227\n",
      "Epoch 84/100\n",
      "240/240 [==============================] - 1s 2ms/step - loss: 26.9872\n",
      "Epoch 85/100\n",
      "240/240 [==============================] - 1s 2ms/step - loss: 26.5949\n",
      "Epoch 86/100\n",
      "240/240 [==============================] - 1s 2ms/step - loss: 26.7476\n",
      "Epoch 87/100\n",
      "240/240 [==============================] - 1s 2ms/step - loss: 26.5865\n",
      "Epoch 88/100\n",
      "240/240 [==============================] - 1s 2ms/step - loss: 26.7589\n",
      "Epoch 89/100\n",
      "240/240 [==============================] - 1s 2ms/step - loss: 26.8713\n",
      "Epoch 90/100\n",
      "240/240 [==============================] - 1s 2ms/step - loss: 26.8604\n",
      "Epoch 91/100\n",
      "240/240 [==============================] - 1s 2ms/step - loss: 26.8672\n",
      "Epoch 92/100\n",
      "240/240 [==============================] - 1s 2ms/step - loss: 26.7321\n",
      "Epoch 93/100\n",
      "240/240 [==============================] - 1s 2ms/step - loss: 26.9727\n",
      "Epoch 94/100\n",
      "240/240 [==============================] - 1s 3ms/step - loss: 27.0390\n",
      "Epoch 95/100\n",
      "240/240 [==============================] - 1s 2ms/step - loss: 27.3631\n",
      "Epoch 96/100\n",
      "240/240 [==============================] - 1s 2ms/step - loss: 26.4756\n",
      "Epoch 97/100\n",
      "240/240 [==============================] - 1s 2ms/step - loss: 27.2902\n",
      "Epoch 98/100\n",
      "240/240 [==============================] - 1s 3ms/step - loss: 27.0180\n",
      "Epoch 99/100\n",
      "240/240 [==============================] - 1s 2ms/step - loss: 26.8194\n",
      "Epoch 100/100\n",
      "240/240 [==============================] - 1s 2ms/step - loss: 26.5536\n"
     ]
    },
    {
     "data": {
      "text/plain": [
       "<keras.callbacks.History at 0x241e0a49750>"
      ]
     },
     "execution_count": 13,
     "metadata": {},
     "output_type": "execute_result"
    }
   ],
   "source": [
    "#Training the ANN model on the Training set\n",
    "ann.fit(X_train, y_train, batch_size = 32, epochs = 100)"
   ]
  },
  {
   "cell_type": "code",
   "execution_count": 14,
   "metadata": {},
   "outputs": [
    {
     "name": "stdout",
     "output_type": "stream",
     "text": [
      "60/60 [==============================] - 0s 2ms/step\n",
      "[[432.96 431.23]\n",
      " [464.07 460.01]\n",
      " [467.59 461.14]\n",
      " ...\n",
      " [474.84 473.26]\n",
      " [441.48 438.  ]\n",
      " [460.76 463.28]]\n"
     ]
    }
   ],
   "source": [
    "#Predicting the results of the Test set\n",
    "y_pred = ann.predict(X_test)\n",
    "np.set_printoptions(precision=2)\n",
    "print(np.concatenate((y_pred.reshape(len(y_pred),1), y_test.reshape(len(y_test),1)),1))"
   ]
  }
 ],
 "metadata": {
  "kernelspec": {
   "display_name": "Python 3.10.2 64-bit",
   "language": "python",
   "name": "python3"
  },
  "language_info": {
   "codemirror_mode": {
    "name": "ipython",
    "version": 3
   },
   "file_extension": ".py",
   "mimetype": "text/x-python",
   "name": "python",
   "nbconvert_exporter": "python",
   "pygments_lexer": "ipython3",
   "version": "3.10.2"
  },
  "orig_nbformat": 4,
  "vscode": {
   "interpreter": {
    "hash": "c2aa79867f6234b32d9cf3e74fb1225a4a90822882565b94f4e40fa2cca6a94a"
   }
  }
 },
 "nbformat": 4,
 "nbformat_minor": 2
}
